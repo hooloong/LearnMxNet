{
 "cells": [
  {
   "cell_type": "code",
   "execution_count": 1,
   "metadata": {},
   "outputs": [
    {
     "name": "stderr",
     "output_type": "stream",
     "text": [
      "D:\\Programdata\\Anaconda3\\lib\\site-packages\\h5py\\__init__.py:34: FutureWarning: Conversion of the second argument of issubdtype from `float` to `np.floating` is deprecated. In future, it will be treated as `np.float64 == np.dtype(float).type`.\n",
      "  from ._conv import register_converters as _register_converters\n",
      "D:\\Programdata\\Anaconda3\\lib\\site-packages\\urllib3\\contrib\\pyopenssl.py:46: DeprecationWarning: OpenSSL.rand is deprecated - you should use os.urandom instead\n",
      "  import OpenSSL.SSL\n"
     ]
    }
   ],
   "source": [
    "import sys\n",
    "sys.path.append('..')\n",
    "import gluonbook as gb\n",
    "import mxnet as mx\n",
    "from mxnet import nd, gluon, init\n",
    "from mxnet.gluon import nn\n",
    "\n",
    "net = nn.Sequential()\n",
    "net.add(\n",
    "    nn.Conv2D(6, kernel_size=5),\n",
    "    nn.BatchNorm(),\n",
    "    nn.Activation('sigmoid'),\n",
    "    nn.MaxPool2D(pool_size=2, strides=2),\n",
    "    nn.Conv2D(16, kernel_size=5),\n",
    "    nn.BatchNorm(),\n",
    "    nn.Activation('sigmoid'),\n",
    "    nn.MaxPool2D(pool_size=2, strides=2),\n",
    "    nn.Dense(120),\n",
    "    nn.BatchNorm(),\n",
    "    nn.Activation('sigmoid'),   \n",
    "    nn.Dense(84),\n",
    "    nn.BatchNorm(),\n",
    "    nn.Activation('sigmoid'),\n",
    "    nn.Dense(10)\n",
    ")"
   ]
  },
  {
   "cell_type": "code",
   "execution_count": 3,
   "metadata": {},
   "outputs": [
    {
     "name": "stdout",
     "output_type": "stream",
     "text": [
      "Start training on  gpu(0)\n",
      "Epoch 0. Loss: 0.640, Train acc 0.77, Test acc 0.82, Time 4.4 sec\n",
      "Epoch 1. Loss: 0.398, Train acc 0.86, Test acc 0.86, Time 4.6 sec\n",
      "Epoch 2. Loss: 0.346, Train acc 0.88, Test acc 0.81, Time 4.8 sec\n",
      "Epoch 3. Loss: 0.321, Train acc 0.88, Test acc 0.88, Time 4.3 sec\n",
      "Epoch 4. Loss: 0.301, Train acc 0.89, Test acc 0.86, Time 4.1 sec\n",
      "Epoch 5. Loss: 0.286, Train acc 0.90, Test acc 0.83, Time 3.9 sec\n",
      "Epoch 6. Loss: 0.274, Train acc 0.90, Test acc 0.88, Time 4.5 sec\n",
      "Epoch 7. Loss: 0.260, Train acc 0.91, Test acc 0.88, Time 4.5 sec\n",
      "Epoch 8. Loss: 0.250, Train acc 0.91, Test acc 0.87, Time 4.6 sec\n",
      "Epoch 9. Loss: 0.243, Train acc 0.91, Test acc 0.90, Time 4.4 sec\n",
      "Epoch 10. Loss: 0.238, Train acc 0.91, Test acc 0.89, Time 4.6 sec\n",
      "Epoch 11. Loss: 0.231, Train acc 0.92, Test acc 0.89, Time 5.0 sec\n",
      "Epoch 12. Loss: 0.223, Train acc 0.92, Test acc 0.89, Time 4.0 sec\n",
      "Epoch 13. Loss: 0.216, Train acc 0.92, Test acc 0.90, Time 4.1 sec\n",
      "Epoch 14. Loss: 0.213, Train acc 0.92, Test acc 0.90, Time 4.1 sec\n"
     ]
    }
   ],
   "source": [
    "ctx = gb.try_gpu()\n",
    "net.initialize(force_reinit=True, ctx=ctx, init=init.Xavier())\n",
    "trainer = gluon.Trainer(net.collect_params(), 'sgd', {'learning_rate': 1})\n",
    "loss = gluon.loss.SoftmaxCrossEntropyLoss()\n",
    "train_data, test_data = gb.load_data_fashion_mnist(batch_size=256)\n",
    "gb.train(train_data, test_data, net, loss, trainer, ctx, num_epochs=15)"
   ]
  },
  {
   "cell_type": "code",
   "execution_count": null,
   "metadata": {
    "collapsed": true
   },
   "outputs": [],
   "source": []
  }
 ],
 "metadata": {
  "kernelspec": {
   "display_name": "Python 3",
   "language": "python",
   "name": "python3"
  },
  "language_info": {
   "codemirror_mode": {
    "name": "ipython",
    "version": 3
   },
   "file_extension": ".py",
   "mimetype": "text/x-python",
   "name": "python",
   "nbconvert_exporter": "python",
   "pygments_lexer": "ipython3",
   "version": "3.6.2"
  }
 },
 "nbformat": 4,
 "nbformat_minor": 2
}
