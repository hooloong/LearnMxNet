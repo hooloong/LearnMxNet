{
 "cells": [
  {
   "cell_type": "code",
   "execution_count": 1,
   "metadata": {},
   "outputs": [
    {
     "name": "stderr",
     "output_type": "stream",
     "text": [
      "D:\\Programdata\\Anaconda3\\lib\\site-packages\\h5py\\__init__.py:34: FutureWarning: Conversion of the second argument of issubdtype from `float` to `np.floating` is deprecated. In future, it will be treated as `np.float64 == np.dtype(float).type`.\n",
      "  from ._conv import register_converters as _register_converters\n",
      "D:\\Programdata\\Anaconda3\\lib\\site-packages\\urllib3\\contrib\\pyopenssl.py:46: DeprecationWarning: OpenSSL.rand is deprecated - you should use os.urandom instead\n",
      "  import OpenSSL.SSL\n"
     ]
    }
   ],
   "source": [
    "import sys\n",
    "sys.path.append('..')\n",
    "import utils\n",
    "\n",
    "batch_size = 256\n",
    "train_data, test_data = utils.load_data_fashion_mnist(batch_size)"
   ]
  },
  {
   "cell_type": "code",
   "execution_count": 2,
   "metadata": {
    "collapsed": true
   },
   "outputs": [],
   "source": [
    "from mxnet import gluon\n",
    "\n",
    "net = gluon.nn.Sequential()\n",
    "\n",
    "with net.name_scope():\n",
    "    net.add(gluon.nn.Flatten())\n",
    "    net.add(gluon.nn.Dense(10))\n",
    "net.initialize()"
   ]
  },
  {
   "cell_type": "code",
   "execution_count": 3,
   "metadata": {
    "collapsed": true
   },
   "outputs": [],
   "source": [
    "softmax_cross_entropy = gluon.loss.SoftmaxCrossEntropyLoss()"
   ]
  },
  {
   "cell_type": "code",
   "execution_count": 4,
   "metadata": {
    "collapsed": true
   },
   "outputs": [],
   "source": [
    "trainer = gluon.Trainer(net.collect_params(), 'sgd', {'learning_rate': 0.1})"
   ]
  },
  {
   "cell_type": "code",
   "execution_count": 6,
   "metadata": {},
   "outputs": [
    {
     "name": "stdout",
     "output_type": "stream",
     "text": [
      "Epoch 0. Loss: 0.479713, Train acc 0.836672, Test acc 0.843550\n",
      "Epoch 1. Loss: 0.470618, Train acc 0.839877, Test acc 0.841446\n",
      "Epoch 2. Loss: 0.463824, Train acc 0.841830, Test acc 0.845453\n",
      "Epoch 3. Loss: 0.456803, Train acc 0.844000, Test acc 0.844651\n",
      "Epoch 4. Loss: 0.452137, Train acc 0.845286, Test acc 0.848357\n",
      "Epoch 5. Loss: 0.448739, Train acc 0.846788, Test acc 0.850461\n",
      "Epoch 6. Loss: 0.445005, Train acc 0.847673, Test acc 0.850661\n",
      "Epoch 7. Loss: 0.440027, Train acc 0.848641, Test acc 0.850160\n",
      "Epoch 8. Loss: 0.437136, Train acc 0.850144, Test acc 0.845152\n",
      "Epoch 9. Loss: 0.434712, Train acc 0.850578, Test acc 0.849960\n",
      "Epoch 10. Loss: 0.432477, Train acc 0.851880, Test acc 0.852664\n",
      "Epoch 11. Loss: 0.430183, Train acc 0.852748, Test acc 0.850761\n",
      "Epoch 12. Loss: 0.428817, Train acc 0.852564, Test acc 0.852464\n",
      "Epoch 13. Loss: 0.426335, Train acc 0.853499, Test acc 0.852865\n",
      "Epoch 14. Loss: 0.425349, Train acc 0.853582, Test acc 0.851562\n",
      "Epoch 15. Loss: 0.422266, Train acc 0.855319, Test acc 0.855268\n",
      "Epoch 16. Loss: 0.421837, Train acc 0.855001, Test acc 0.855068\n",
      "Epoch 17. Loss: 0.419756, Train acc 0.855335, Test acc 0.853265\n",
      "Epoch 18. Loss: 0.418090, Train acc 0.856838, Test acc 0.846554\n",
      "Epoch 19. Loss: 0.417729, Train acc 0.856153, Test acc 0.857171\n",
      "Epoch 20. Loss: 0.415927, Train acc 0.857606, Test acc 0.853766\n",
      "Epoch 21. Loss: 0.415161, Train acc 0.857489, Test acc 0.857272\n",
      "Epoch 22. Loss: 0.414124, Train acc 0.858006, Test acc 0.854567\n",
      "Epoch 23. Loss: 0.412255, Train acc 0.859058, Test acc 0.855469\n",
      "Epoch 24. Loss: 0.412304, Train acc 0.858073, Test acc 0.854768\n",
      "Epoch 25. Loss: 0.410950, Train acc 0.858490, Test acc 0.854267\n",
      "Epoch 26. Loss: 0.410704, Train acc 0.858490, Test acc 0.855970\n",
      "Epoch 27. Loss: 0.409542, Train acc 0.859241, Test acc 0.856771\n",
      "Epoch 28. Loss: 0.408973, Train acc 0.859892, Test acc 0.856771\n",
      "Epoch 29. Loss: 0.408034, Train acc 0.859926, Test acc 0.854367\n",
      "Epoch 30. Loss: 0.407376, Train acc 0.859926, Test acc 0.853466\n",
      "Epoch 31. Loss: 0.405127, Train acc 0.861428, Test acc 0.857372\n",
      "Epoch 32. Loss: 0.405567, Train acc 0.860811, Test acc 0.856470\n",
      "Epoch 33. Loss: 0.404898, Train acc 0.860978, Test acc 0.857772\n",
      "Epoch 34. Loss: 0.403573, Train acc 0.860510, Test acc 0.859475\n",
      "Epoch 35. Loss: 0.403670, Train acc 0.862146, Test acc 0.858974\n",
      "Epoch 36. Loss: 0.403179, Train acc 0.861528, Test acc 0.859876\n",
      "Epoch 37. Loss: 0.402144, Train acc 0.861962, Test acc 0.859375\n",
      "Epoch 38. Loss: 0.400961, Train acc 0.863064, Test acc 0.857272\n",
      "Epoch 39. Loss: 0.401311, Train acc 0.862597, Test acc 0.854267\n",
      "Epoch 40. Loss: 0.400447, Train acc 0.863615, Test acc 0.858974\n",
      "Epoch 41. Loss: 0.399251, Train acc 0.862697, Test acc 0.858774\n",
      "Epoch 42. Loss: 0.399254, Train acc 0.862997, Test acc 0.852264\n",
      "Epoch 43. Loss: 0.398621, Train acc 0.862997, Test acc 0.859175\n",
      "Epoch 44. Loss: 0.397654, Train acc 0.863982, Test acc 0.854667\n",
      "Epoch 45. Loss: 0.397308, Train acc 0.863064, Test acc 0.856671\n",
      "Epoch 46. Loss: 0.396360, Train acc 0.862714, Test acc 0.856671\n",
      "Epoch 47. Loss: 0.396428, Train acc 0.863749, Test acc 0.857171\n",
      "Epoch 48. Loss: 0.395504, Train acc 0.864249, Test acc 0.859475\n",
      "Epoch 49. Loss: 0.395598, Train acc 0.862914, Test acc 0.854768\n"
     ]
    }
   ],
   "source": [
    "from mxnet import ndarray as nd\n",
    "from mxnet import autograd\n",
    "\n",
    "for epoch in range(500):\n",
    "    train_loss = 0.\n",
    "    train_acc = 0.\n",
    "    for data, label in train_data:\n",
    "        with autograd.record():\n",
    "            output = net(data)\n",
    "            loss = softmax_cross_entropy(output, label)\n",
    "        loss.backward()\n",
    "        trainer.step(batch_size)\n",
    "\n",
    "        train_loss += nd.mean(loss).asscalar()\n",
    "        train_acc += utils.accuracy(output, label)\n",
    "\n",
    "    test_acc = utils.evaluate_accuracy(test_data, net)\n",
    "    print(\"Epoch %d. Loss: %f, Train acc %f, Test acc %f\" % (\n",
    "        epoch, train_loss/len(train_data), train_acc/len(train_data), test_acc))"
   ]
  },
  {
   "cell_type": "code",
   "execution_count": null,
   "metadata": {
    "collapsed": true
   },
   "outputs": [],
   "source": []
  }
 ],
 "metadata": {
  "kernelspec": {
   "display_name": "Python 3",
   "language": "python",
   "name": "python3"
  },
  "language_info": {
   "codemirror_mode": {
    "name": "ipython",
    "version": 3
   },
   "file_extension": ".py",
   "mimetype": "text/x-python",
   "name": "python",
   "nbconvert_exporter": "python",
   "pygments_lexer": "ipython3",
   "version": "3.6.2"
  }
 },
 "nbformat": 4,
 "nbformat_minor": 2
}
