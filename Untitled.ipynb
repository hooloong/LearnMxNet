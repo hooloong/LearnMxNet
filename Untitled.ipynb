{
 "cells": [
  {
   "cell_type": "code",
   "execution_count": 1,
   "metadata": {},
   "outputs": [
    {
     "name": "stderr",
     "output_type": "stream",
     "text": [
      "D:\\Programdata\\Anaconda3\\lib\\site-packages\\h5py\\__init__.py:34: FutureWarning: Conversion of the second argument of issubdtype from `float` to `np.floating` is deprecated. In future, it will be treated as `np.float64 == np.dtype(float).type`.\n",
      "  from ._conv import register_converters as _register_converters\n",
      "D:\\Programdata\\Anaconda3\\lib\\site-packages\\urllib3\\contrib\\pyopenssl.py:46: DeprecationWarning: OpenSSL.rand is deprecated - you should use os.urandom instead\n",
      "  import OpenSSL.SSL\n"
     ]
    }
   ],
   "source": [
    "import mxnet as mx\n",
    "from mxnet import gluon, nd\n",
    "import sys"
   ]
  },
  {
   "cell_type": "code",
   "execution_count": 4,
   "metadata": {},
   "outputs": [
    {
     "data": {
      "text/plain": [
       "[gpu(0), cpu(0)]"
      ]
     },
     "execution_count": 4,
     "metadata": {},
     "output_type": "execute_result"
    }
   ],
   "source": [
    "[mx.gpu(),mx.cpu()]\n"
   ]
  },
  {
   "cell_type": "code",
   "execution_count": 5,
   "metadata": {},
   "outputs": [
    {
     "name": "stdout",
     "output_type": "stream",
     "text": [
      "x:  \n",
      "[1. 2. 3.]\n",
      "<NDArray 3 @cpu(0)> \n",
      "context of x:  cpu(0)\n"
     ]
    }
   ],
   "source": [
    "x = nd.array([1,2,3])\n",
    "print('x: ', x, '\\ncontext of x: ', x.context)\n"
   ]
  },
  {
   "cell_type": "code",
   "execution_count": 7,
   "metadata": {},
   "outputs": [
    {
     "name": "stdout",
     "output_type": "stream",
     "text": [
      "a:  \n",
      "[1. 2. 3.]\n",
      "<NDArray 3 @gpu(0)> \n",
      "b:  \n",
      "[[0. 0.]\n",
      " [0. 0.]\n",
      " [0. 0.]]\n",
      "<NDArray 3x2 @gpu(0)> \n",
      "c:  \n",
      "[[0.6686509  0.17409194 0.3850025 ]\n",
      " [0.24678314 0.35134333 0.8404298 ]]\n",
      "<NDArray 2x3 @gpu(0)>\n"
     ]
    }
   ],
   "source": [
    "a = nd.array([1, 2, 3], ctx=mx.gpu())\n",
    "b = nd.zeros((3, 2), ctx=mx.gpu())\n",
    "# 假设至少存在2块GPU。如果不存在则会报错。\n",
    "c = nd.random.uniform(shape=(2, 3), ctx=mx.gpu(0)) \n",
    "print('a: ', a, '\\nb: ', b, '\\nc: ', c)"
   ]
  },
  {
   "cell_type": "code",
   "execution_count": 8,
   "metadata": {},
   "outputs": [
    {
     "name": "stdout",
     "output_type": "stream",
     "text": [
      "x:  \n",
      "[1. 2. 3.]\n",
      "<NDArray 3 @cpu(0)> \n",
      "y:  \n",
      "[1. 2. 3.]\n",
      "<NDArray 3 @gpu(0)> \n",
      "z:  \n",
      "[1. 2. 3.]\n",
      "<NDArray 3 @gpu(0)>\n"
     ]
    }
   ],
   "source": [
    "y = x.copyto(mx.gpu())\n",
    "z = x.as_in_context(mx.gpu())\n",
    "print('x: ', x, '\\ny: ', y, '\\nz: ', z)"
   ]
  },
  {
   "cell_type": "code",
   "execution_count": 9,
   "metadata": {},
   "outputs": [
    {
     "name": "stdout",
     "output_type": "stream",
     "text": [
      "y:  \n",
      "[1. 2. 3.]\n",
      "<NDArray 3 @gpu(0)> \n",
      "y_target:  \n",
      "[1. 2. 3.]\n",
      "<NDArray 3 @gpu(0)>\n",
      "z:  \n",
      "[1. 2. 3.]\n",
      "<NDArray 3 @gpu(0)> \n",
      "z_target:  \n",
      "[1. 2. 3.]\n",
      "<NDArray 3 @gpu(0)>\n",
      "y_target and y share memory?  True\n",
      "z_target and z share memory?  False\n"
     ]
    }
   ],
   "source": [
    "y_target = y.as_in_context(mx.gpu())\n",
    "z_target = z.copyto(mx.gpu())\n",
    "print('y: ', y, '\\ny_target: ', y_target)\n",
    "print('z: ', z, '\\nz_target: ', z_target)\n",
    "print('y_target and y share memory? ', y_target is y)\n",
    "print('z_target and z share memory? ', z_target is z)"
   ]
  },
  {
   "cell_type": "code",
   "execution_count": 10,
   "metadata": {},
   "outputs": [
    {
     "data": {
      "text/plain": [
       "\n",
       "[ 20.085537 109.1963   445.2395  ]\n",
       "<NDArray 3 @gpu(0)>"
      ]
     },
     "execution_count": 10,
     "metadata": {},
     "output_type": "execute_result"
    }
   ],
   "source": [
    "nd.exp(z + 2) * y\n"
   ]
  },
  {
   "cell_type": "code",
   "execution_count": 11,
   "metadata": {},
   "outputs": [
    {
     "name": "stdout",
     "output_type": "stream",
     "text": [
      "\n",
      "[1. 2. 3.]\n",
      "<NDArray 3 @gpu(0)>\n",
      "[1. 2. 3.]\n",
      "6.0\n"
     ]
    }
   ],
   "source": [
    "print(y)\n",
    "print(y.asnumpy())\n",
    "print(y.sum().asscalar())\n"
   ]
  },
  {
   "cell_type": "code",
   "execution_count": 12,
   "metadata": {},
   "outputs": [
    {
     "name": "stderr",
     "output_type": "stream",
     "text": [
      "'nvdia-smi' is not recognized as an internal or external command,\n",
      "operable program or batch file.\n"
     ]
    }
   ],
   "source": [
    "!nvdia-smi\n"
   ]
  },
  {
   "cell_type": "code",
   "execution_count": 13,
   "metadata": {
    "collapsed": true
   },
   "outputs": [],
   "source": [
    "net = gluon.nn.Sequential()\n",
    "net.add(gluon.nn.Dense(1))\n",
    "net.initialize(ctx=mx.gpu())"
   ]
  },
  {
   "cell_type": "code",
   "execution_count": 16,
   "metadata": {},
   "outputs": [
    {
     "data": {
      "text/plain": [
       "\n",
       "[[0.00699626]\n",
       " [0.01652164]\n",
       " [0.00990379]]\n",
       "<NDArray 3x1 @gpu(0)>"
      ]
     },
     "execution_count": 16,
     "metadata": {},
     "output_type": "execute_result"
    }
   ],
   "source": [
    "data = nd.random.uniform(shape=[3, 2], ctx=mx.gpu())\n",
    "net(data)"
   ]
  },
  {
   "cell_type": "code",
   "execution_count": 19,
   "metadata": {},
   "outputs": [
    {
     "data": {
      "text/plain": [
       "\n",
       "[[0.0068339  0.01299825]]\n",
       "<NDArray 1x2 @gpu(0)>"
      ]
     },
     "execution_count": 19,
     "metadata": {},
     "output_type": "execute_result"
    }
   ],
   "source": [
    "net[0].weight.data()\n"
   ]
  },
  {
   "cell_type": "code",
   "execution_count": null,
   "metadata": {},
   "outputs": [],
   "source": []
  },
  {
   "cell_type": "code",
   "execution_count": null,
   "metadata": {
    "collapsed": true
   },
   "outputs": [],
   "source": []
  }
 ],
 "metadata": {
  "kernelspec": {
   "display_name": "Python 3",
   "language": "python",
   "name": "python3"
  },
  "language_info": {
   "codemirror_mode": {
    "name": "ipython",
    "version": 3
   },
   "file_extension": ".py",
   "mimetype": "text/x-python",
   "name": "python",
   "nbconvert_exporter": "python",
   "pygments_lexer": "ipython3",
   "version": "3.6.2"
  }
 },
 "nbformat": 4,
 "nbformat_minor": 2
}
