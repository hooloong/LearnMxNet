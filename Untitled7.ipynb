{
 "cells": [
  {
   "cell_type": "code",
   "execution_count": 1,
   "metadata": {},
   "outputs": [
    {
     "name": "stderr",
     "output_type": "stream",
     "text": [
      "D:\\Programdata\\Anaconda3\\lib\\site-packages\\h5py\\__init__.py:34: FutureWarning: Conversion of the second argument of issubdtype from `float` to `np.floating` is deprecated. In future, it will be treated as `np.float64 == np.dtype(float).type`.\n",
      "  from ._conv import register_converters as _register_converters\n",
      "D:\\Programdata\\Anaconda3\\lib\\site-packages\\urllib3\\contrib\\pyopenssl.py:46: DeprecationWarning: OpenSSL.rand is deprecated - you should use os.urandom instead\n",
      "  import OpenSSL.SSL\n"
     ]
    }
   ],
   "source": [
    "import sys\n",
    "sys.path.append('..')\n",
    "import utils\n",
    "batch_size = 256\n",
    "train_data, test_data = utils.load_data_fashion_mnist(batch_size)"
   ]
  },
  {
   "cell_type": "code",
   "execution_count": 2,
   "metadata": {
    "collapsed": true
   },
   "outputs": [],
   "source": [
    "from mxnet import ndarray as nd\n",
    "\n",
    "num_inputs = 28*28\n",
    "num_outputs = 10\n",
    "\n",
    "num_hidden = 256\n",
    "weight_scale = .01\n",
    "\n",
    "W1 = nd.random_normal(shape=(num_inputs, num_hidden), scale=weight_scale)\n",
    "b1 = nd.zeros(num_hidden)\n",
    "\n",
    "W2 = nd.random_normal(shape=(num_hidden, num_outputs), scale=weight_scale)\n",
    "b2 = nd.zeros(num_outputs)\n",
    "\n",
    "params = [W1, b1, W2, b2]\n",
    "\n",
    "for param in params:\n",
    "    param.attach_grad()"
   ]
  },
  {
   "cell_type": "code",
   "execution_count": 3,
   "metadata": {
    "collapsed": true
   },
   "outputs": [],
   "source": [
    "def relu(X):\n",
    "    return nd.maximum(X, 0)"
   ]
  },
  {
   "cell_type": "code",
   "execution_count": 4,
   "metadata": {
    "collapsed": true
   },
   "outputs": [],
   "source": [
    "def net(X):\n",
    "    X = X.reshape((-1, num_inputs))\n",
    "    h1 = relu(nd.dot(X, W1) + b1)\n",
    "    output = nd.dot(h1, W2) + b2\n",
    "    return output"
   ]
  },
  {
   "cell_type": "code",
   "execution_count": 5,
   "metadata": {
    "collapsed": true
   },
   "outputs": [],
   "source": [
    "from mxnet import gluon\n",
    "softmax_cross_entropy = gluon.loss.SoftmaxCrossEntropyLoss()"
   ]
  },
  {
   "cell_type": "code",
   "execution_count": 8,
   "metadata": {},
   "outputs": [
    {
     "name": "stdout",
     "output_type": "stream",
     "text": [
      "Epoch 0. Loss: 0.137282, Train acc 0.952841, Test acc 0.899539\n",
      "Epoch 1. Loss: 0.133990, Train acc 0.953759, Test acc 0.899439\n",
      "Epoch 2. Loss: 0.132841, Train acc 0.954210, Test acc 0.899639\n",
      "Epoch 3. Loss: 0.132270, Train acc 0.954945, Test acc 0.899840\n",
      "Epoch 4. Loss: 0.131447, Train acc 0.954878, Test acc 0.899239\n",
      "Epoch 5. Loss: 0.130898, Train acc 0.955412, Test acc 0.898638\n",
      "Epoch 6. Loss: 0.130562, Train acc 0.955696, Test acc 0.899940\n",
      "Epoch 7. Loss: 0.129780, Train acc 0.955445, Test acc 0.899339\n",
      "Epoch 8. Loss: 0.128997, Train acc 0.955579, Test acc 0.899740\n",
      "Epoch 9. Loss: 0.128712, Train acc 0.956096, Test acc 0.898438\n",
      "Epoch 10. Loss: 0.127966, Train acc 0.956647, Test acc 0.899038\n",
      "Epoch 11. Loss: 0.127642, Train acc 0.956147, Test acc 0.899840\n",
      "Epoch 12. Loss: 0.127271, Train acc 0.956814, Test acc 0.899239\n",
      "Epoch 13. Loss: 0.126691, Train acc 0.957081, Test acc 0.898738\n",
      "Epoch 14. Loss: 0.126384, Train acc 0.957148, Test acc 0.899339\n",
      "Epoch 15. Loss: 0.125739, Train acc 0.957449, Test acc 0.899339\n",
      "Epoch 16. Loss: 0.125414, Train acc 0.956948, Test acc 0.899639\n",
      "Epoch 17. Loss: 0.124903, Train acc 0.957766, Test acc 0.899439\n",
      "Epoch 18. Loss: 0.124623, Train acc 0.957933, Test acc 0.898638\n",
      "Epoch 19. Loss: 0.124132, Train acc 0.957565, Test acc 0.898738\n",
      "Epoch 20. Loss: 0.123657, Train acc 0.958066, Test acc 0.899139\n",
      "Epoch 21. Loss: 0.123312, Train acc 0.958200, Test acc 0.899840\n",
      "Epoch 22. Loss: 0.122903, Train acc 0.958534, Test acc 0.899539\n",
      "Epoch 23. Loss: 0.122439, Train acc 0.958083, Test acc 0.898438\n",
      "Epoch 24. Loss: 0.121890, Train acc 0.958868, Test acc 0.899139\n",
      "Epoch 25. Loss: 0.121721, Train acc 0.958918, Test acc 0.899639\n",
      "Epoch 26. Loss: 0.121008, Train acc 0.959101, Test acc 0.899740\n",
      "Epoch 27. Loss: 0.120562, Train acc 0.959285, Test acc 0.898538\n",
      "Epoch 28. Loss: 0.120476, Train acc 0.959485, Test acc 0.898738\n",
      "Epoch 29. Loss: 0.119929, Train acc 0.959769, Test acc 0.898838\n",
      "Epoch 30. Loss: 0.119525, Train acc 0.959886, Test acc 0.899539\n",
      "Epoch 31. Loss: 0.119184, Train acc 0.959802, Test acc 0.899038\n",
      "Epoch 32. Loss: 0.118816, Train acc 0.960303, Test acc 0.897636\n",
      "Epoch 33. Loss: 0.118437, Train acc 0.960320, Test acc 0.898037\n",
      "Epoch 34. Loss: 0.118110, Train acc 0.960520, Test acc 0.900040\n",
      "Epoch 35. Loss: 0.117701, Train acc 0.960303, Test acc 0.900441\n",
      "Epoch 36. Loss: 0.117263, Train acc 0.960520, Test acc 0.900140\n",
      "Epoch 37. Loss: 0.116663, Train acc 0.960771, Test acc 0.898938\n",
      "Epoch 38. Loss: 0.116306, Train acc 0.960971, Test acc 0.898838\n",
      "Epoch 39. Loss: 0.116045, Train acc 0.961522, Test acc 0.897937\n",
      "Epoch 40. Loss: 0.115827, Train acc 0.961338, Test acc 0.898838\n",
      "Epoch 41. Loss: 0.115136, Train acc 0.961155, Test acc 0.899339\n",
      "Epoch 42. Loss: 0.114848, Train acc 0.961238, Test acc 0.899239\n",
      "Epoch 43. Loss: 0.114610, Train acc 0.961705, Test acc 0.900140\n",
      "Epoch 44. Loss: 0.114268, Train acc 0.962073, Test acc 0.899840\n",
      "Epoch 45. Loss: 0.113913, Train acc 0.961305, Test acc 0.898438\n",
      "Epoch 46. Loss: 0.113606, Train acc 0.962390, Test acc 0.899239\n",
      "Epoch 47. Loss: 0.113070, Train acc 0.962490, Test acc 0.899239\n",
      "Epoch 48. Loss: 0.112811, Train acc 0.962407, Test acc 0.899339\n",
      "Epoch 49. Loss: 0.112603, Train acc 0.962106, Test acc 0.898237\n"
     ]
    }
   ],
   "source": [
    "from mxnet import autograd as autograd\n",
    "\n",
    "learning_rate = .05\n",
    "\n",
    "for epoch in range(50):\n",
    "    train_loss = 0.\n",
    "    train_acc = 0.\n",
    "    for data, label in train_data:\n",
    "        with autograd.record():\n",
    "            output = net(data)\n",
    "            loss = softmax_cross_entropy(output, label)\n",
    "        loss.backward()\n",
    "        utils.SGD(params, learning_rate/batch_size)\n",
    "\n",
    "        train_loss += nd.mean(loss).asscalar()\n",
    "        train_acc += utils.accuracy(output, label)\n",
    "\n",
    "    test_acc = utils.evaluate_accuracy(test_data, net)\n",
    "    print(\"Epoch %d. Loss: %f, Train acc %f, Test acc %f\" % (\n",
    "        epoch, train_loss/len(train_data),\n",
    "        train_acc/len(train_data), test_acc))"
   ]
  },
  {
   "cell_type": "code",
   "execution_count": null,
   "metadata": {
    "collapsed": true
   },
   "outputs": [],
   "source": []
  }
 ],
 "metadata": {
  "kernelspec": {
   "display_name": "Python 3",
   "language": "python",
   "name": "python3"
  },
  "language_info": {
   "codemirror_mode": {
    "name": "ipython",
    "version": 3
   },
   "file_extension": ".py",
   "mimetype": "text/x-python",
   "name": "python",
   "nbconvert_exporter": "python",
   "pygments_lexer": "ipython3",
   "version": "3.6.2"
  }
 },
 "nbformat": 4,
 "nbformat_minor": 2
}
