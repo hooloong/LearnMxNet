{
 "cells": [
  {
   "cell_type": "code",
   "execution_count": 1,
   "metadata": {},
   "outputs": [
    {
     "name": "stderr",
     "output_type": "stream",
     "text": [
      "D:\\Programdata\\Anaconda3\\lib\\site-packages\\h5py\\__init__.py:34: FutureWarning: Conversion of the second argument of issubdtype from `float` to `np.floating` is deprecated. In future, it will be treated as `np.float64 == np.dtype(float).type`.\n",
      "  from ._conv import register_converters as _register_converters\n",
      "D:\\Programdata\\Anaconda3\\lib\\site-packages\\urllib3\\contrib\\pyopenssl.py:46: DeprecationWarning: OpenSSL.rand is deprecated - you should use os.urandom instead\n",
      "  import OpenSSL.SSL\n"
     ]
    }
   ],
   "source": [
    "\n",
    "import sys\n",
    "sys.path.append('..')\n",
    "import gluonbook as gb\n",
    "import mxnet as mx\n",
    "from mxnet import nd, gluon, init\n",
    "from mxnet.gluon import nn\n",
    "\n",
    "net = nn.Sequential()\n",
    "net.add(\n",
    "    nn.Conv2D(channels=6, kernel_size=5, activation='sigmoid'),\n",
    "    nn.MaxPool2D(pool_size=2, strides=2),\n",
    "    nn.Conv2D(channels=16, kernel_size=5, activation='sigmoid'),\n",
    "    nn.MaxPool2D(pool_size=2, strides=2),\n",
    "    # Dense 会默认将（批量大小，通道，高，宽）形状的输入转换成\n",
    "    #（批量大小，通道 x 高 x 宽）形状的输入。\n",
    "    nn.Dense(120, activation='sigmoid'),\n",
    "    nn.Dense(84, activation='sigmoid'),\n",
    "    nn.Dense(10)\n",
    ")\n",
    "\n"
   ]
  },
  {
   "cell_type": "code",
   "execution_count": 2,
   "metadata": {},
   "outputs": [
    {
     "name": "stdout",
     "output_type": "stream",
     "text": [
      "conv0 output shape:\t (1, 6, 24, 24)\n",
      "pool0 output shape:\t (1, 6, 12, 12)\n",
      "conv1 output shape:\t (1, 16, 8, 8)\n",
      "pool1 output shape:\t (1, 16, 4, 4)\n",
      "dense0 output shape:\t (1, 120)\n",
      "dense1 output shape:\t (1, 84)\n",
      "dense2 output shape:\t (1, 10)\n"
     ]
    }
   ],
   "source": [
    "\n",
    "X = nd.random.uniform(shape=(1,1,28,28))\n",
    "\n",
    "net.initialize()\n",
    "\n",
    "for layer in net:\n",
    "    X = layer(X)\n",
    "    print(layer.name, 'output shape:\\t', X.shape)\n",
    "\n"
   ]
  },
  {
   "cell_type": "code",
   "execution_count": 3,
   "metadata": {
    "collapsed": true
   },
   "outputs": [],
   "source": [
    "train_data, test_data = gb.load_data_fashion_mnist(batch_size=256)"
   ]
  },
  {
   "cell_type": "code",
   "execution_count": 4,
   "metadata": {},
   "outputs": [
    {
     "data": {
      "text/plain": [
       "gpu(0)"
      ]
     },
     "execution_count": 4,
     "metadata": {},
     "output_type": "execute_result"
    }
   ],
   "source": [
    "try:\n",
    "    ctx = mx.gpu()\n",
    "    _ = nd.zeros((1,), ctx=ctx)\n",
    "except:\n",
    "    ctx = mx.cpu()\n",
    "ctx"
   ]
  },
  {
   "cell_type": "code",
   "execution_count": 6,
   "metadata": {},
   "outputs": [
    {
     "name": "stdout",
     "output_type": "stream",
     "text": [
      "Start training on  gpu(0)\n",
      "Epoch 0. Loss: 2.321, Train acc 0.10, Test acc 0.10, Time 2.9 sec\n",
      "Epoch 1. Loss: 2.097, Train acc 0.19, Test acc 0.35, Time 2.9 sec\n",
      "Epoch 2. Loss: 1.005, Train acc 0.60, Test acc 0.66, Time 3.0 sec\n",
      "Epoch 3. Loss: 0.778, Train acc 0.70, Test acc 0.71, Time 2.9 sec\n",
      "Epoch 4. Loss: 0.660, Train acc 0.74, Test acc 0.74, Time 2.8 sec\n",
      "Epoch 5. Loss: 0.594, Train acc 0.77, Test acc 0.78, Time 3.0 sec\n",
      "Epoch 6. Loss: 0.540, Train acc 0.79, Test acc 0.80, Time 2.8 sec\n",
      "Epoch 7. Loss: 0.503, Train acc 0.80, Test acc 0.82, Time 3.0 sec\n",
      "Epoch 8. Loss: 0.474, Train acc 0.82, Test acc 0.84, Time 2.8 sec\n",
      "Epoch 9. Loss: 0.447, Train acc 0.83, Test acc 0.84, Time 2.9 sec\n",
      "Epoch 10. Loss: 0.427, Train acc 0.84, Test acc 0.85, Time 2.9 sec\n",
      "Epoch 11. Loss: 0.409, Train acc 0.85, Test acc 0.85, Time 2.9 sec\n",
      "Epoch 12. Loss: 0.390, Train acc 0.86, Test acc 0.86, Time 2.9 sec\n",
      "Epoch 13. Loss: 0.380, Train acc 0.86, Test acc 0.86, Time 2.9 sec\n",
      "Epoch 14. Loss: 0.367, Train acc 0.86, Test acc 0.87, Time 2.9 sec\n"
     ]
    }
   ],
   "source": [
    "loss = gluon.loss.SoftmaxCrossEntropyLoss()\n",
    "\n",
    "net.initialize(force_reinit=True, ctx=ctx, init=init.Xavier())\n",
    "trainer = gluon.Trainer(net.collect_params(), 'sgd', {'learning_rate': 1})\n",
    "\n",
    "gb.train(train_data, test_data, net, loss, trainer, ctx, num_epochs=15)"
   ]
  },
  {
   "cell_type": "code",
   "execution_count": null,
   "metadata": {
    "collapsed": true
   },
   "outputs": [],
   "source": []
  }
 ],
 "metadata": {
  "kernelspec": {
   "display_name": "Python 3",
   "language": "python",
   "name": "python3"
  },
  "language_info": {
   "codemirror_mode": {
    "name": "ipython",
    "version": 3
   },
   "file_extension": ".py",
   "mimetype": "text/x-python",
   "name": "python",
   "nbconvert_exporter": "python",
   "pygments_lexer": "ipython3",
   "version": "3.6.2"
  }
 },
 "nbformat": 4,
 "nbformat_minor": 2
}
