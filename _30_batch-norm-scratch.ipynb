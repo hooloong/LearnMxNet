{
 "cells": [
  {
   "cell_type": "code",
   "execution_count": 1,
   "metadata": {},
   "outputs": [
    {
     "name": "stderr",
     "output_type": "stream",
     "text": [
      "D:\\Programdata\\Anaconda3\\lib\\site-packages\\h5py\\__init__.py:34: FutureWarning: Conversion of the second argument of issubdtype from `float` to `np.floating` is deprecated. In future, it will be treated as `np.float64 == np.dtype(float).type`.\n",
      "  from ._conv import register_converters as _register_converters\n",
      "D:\\Programdata\\Anaconda3\\lib\\site-packages\\urllib3\\contrib\\pyopenssl.py:46: DeprecationWarning: OpenSSL.rand is deprecated - you should use os.urandom instead\n",
      "  import OpenSSL.SSL\n"
     ]
    }
   ],
   "source": [
    "import sys\n",
    "sys.path.insert(0, '..')\n",
    "import gluonbook as gb\n",
    "from mxnet import nd, gluon, init, autograd\n",
    "from mxnet.gluon import nn\n",
    "\n",
    "def batch_norm(X, gamma, beta, moving_mean, moving_var,\n",
    "               eps, momentum):\n",
    "    # 通过 autograd 来获取是不是在训练环境下。\n",
    "    if not autograd.is_training():\n",
    "        # 如果是在预测模式下，直接使用传入的移动平滑均值和方差。\n",
    "        X_hat = (X - moving_mean) / nd.sqrt(moving_var + eps)\n",
    "    else:\n",
    "        assert len(X.shape) in (2, 4)\n",
    "        # 接在全连接层后情况，计算特征维上的均值和方差。\n",
    "        if len(X.shape) == 2:\n",
    "            mean = X.mean(axis=0)\n",
    "            var = ((X - mean)**2).mean(axis=0)\n",
    "        # 接在二维卷基层后的情况，计算通道维上（axis=1）的均值和方差。这里我们需要保持 X\n",
    "        # 的形状以便后面可以正常的做广播运算。\n",
    "        else:\n",
    "            mean = X.mean(axis=(0,2,3), keepdims=True)\n",
    "            var = ((X - mean)**2).mean(axis=(0,2,3), keepdims=True)\n",
    "        # 训练模式下用当前的均值和方差做归一化。\n",
    "        X_hat = (X - mean) / nd.sqrt(var + eps)\n",
    "        # 更新移动平滑均值和方差。\n",
    "        moving_mean = momentum * moving_mean + (1.0 - momentum) * mean\n",
    "        moving_var = momentum * moving_var + (1.0 - momentum) * var\n",
    "    # 拉升和偏移\n",
    "    Y = gamma * X_hat + beta\n",
    "    return (Y, moving_mean, moving_var)"
   ]
  },
  {
   "cell_type": "code",
   "execution_count": 2,
   "metadata": {
    "collapsed": true
   },
   "outputs": [],
   "source": [
    "class BatchNorm(nn.Block):\n",
    "    def __init__(self, num_features, num_dims, **kwargs):\n",
    "        super(BatchNorm, self).__init__(**kwargs)\n",
    "        shape = (1,num_features) if num_dims == 2 else (1,num_features,1,1)\n",
    "        # 参与求导和更新的模型参数，分别初始化成 0 和 1。\n",
    "        self.beta = self.params.get('beta', shape=shape, init=init.Zero())\n",
    "        self.gamma = self.params.get('gamma', shape=shape, init=init.One())\n",
    "        # 不参与求导的模型参数。全在 CPU 上初始化成 0。\n",
    "        self.moving_mean = nd.zeros(shape)\n",
    "        self.moving_variance = nd.zeros(shape)\n",
    "    def forward(self, X):\n",
    "        # 如果 X 不在 CPU 上，将 moving_mean 和 moving_varience 复制到对应设备上。\n",
    "        if self.moving_mean.context != X.context:\n",
    "            self.moving_mean = self.moving_mean.copyto(X.context)\n",
    "            self.moving_variance = self.moving_variance.copyto(X.context)\n",
    "        # 保存更新过的 moving_mean 和 moving_var。\n",
    "        Y, self.moving_mean, self.moving_variance = batch_norm(\n",
    "            X, self.gamma.data(), self.beta.data(), self.moving_mean,\n",
    "            self.moving_variance, eps=1e-5, momentum=0.9)\n",
    "        return Y"
   ]
  },
  {
   "cell_type": "code",
   "execution_count": 3,
   "metadata": {
    "collapsed": true
   },
   "outputs": [],
   "source": [
    "net = nn.Sequential()\n",
    "net.add(\n",
    "    nn.Conv2D(6, kernel_size=5),\n",
    "    BatchNorm(6, num_dims=4),\n",
    "    nn.Activation('sigmoid'),\n",
    "    nn.MaxPool2D(pool_size=2, strides=2),\n",
    "    nn.Conv2D(16, kernel_size=5),\n",
    "    BatchNorm(16, num_dims=4),\n",
    "    nn.Activation('sigmoid'),\n",
    "    nn.MaxPool2D(pool_size=2, strides=2),\n",
    "    nn.Dense(120),\n",
    "    BatchNorm(120, num_dims=2),\n",
    "    nn.Activation('sigmoid'),\n",
    "    nn.Dense(84),\n",
    "    BatchNorm(84, num_dims=2),\n",
    "    nn.Activation('sigmoid'),\n",
    "    nn.Dense(10)\n",
    ")"
   ]
  },
  {
   "cell_type": "code",
   "execution_count": 4,
   "metadata": {},
   "outputs": [
    {
     "name": "stdout",
     "output_type": "stream",
     "text": [
      "Start training on  gpu(0)\n",
      "Epoch 0. Loss: 0.665, Train acc 0.76, Test acc 0.78, Time 13.9 sec\n",
      "Epoch 1. Loss: 0.396, Train acc 0.86, Test acc 0.86, Time 11.8 sec\n",
      "Epoch 2. Loss: 0.351, Train acc 0.87, Test acc 0.85, Time 12.7 sec\n",
      "Epoch 3. Loss: 0.324, Train acc 0.88, Test acc 0.85, Time 12.7 sec\n",
      "Epoch 4. Loss: 0.307, Train acc 0.89, Test acc 0.89, Time 12.7 sec\n"
     ]
    }
   ],
   "source": [
    "ctx = gb.try_gpu()\n",
    "net.initialize(force_reinit=True, ctx=ctx, init=init.Xavier())\n",
    "trainer = gluon.Trainer(net.collect_params(), 'sgd', {'learning_rate': 1})\n",
    "loss = gluon.loss.SoftmaxCrossEntropyLoss()\n",
    "train_data, test_data = gb.load_data_fashion_mnist(batch_size=256)\n",
    "gb.train(train_data, test_data, net, loss, trainer, ctx, num_epochs=5)"
   ]
  },
  {
   "cell_type": "code",
   "execution_count": null,
   "metadata": {
    "collapsed": true
   },
   "outputs": [],
   "source": []
  }
 ],
 "metadata": {
  "kernelspec": {
   "display_name": "Python 3",
   "language": "python",
   "name": "python3"
  },
  "language_info": {
   "codemirror_mode": {
    "name": "ipython",
    "version": 3
   },
   "file_extension": ".py",
   "mimetype": "text/x-python",
   "name": "python",
   "nbconvert_exporter": "python",
   "pygments_lexer": "ipython3",
   "version": "3.6.2"
  }
 },
 "nbformat": 4,
 "nbformat_minor": 2
}
