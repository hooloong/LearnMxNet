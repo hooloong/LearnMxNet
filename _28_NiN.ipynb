{
 "cells": [
  {
   "cell_type": "code",
   "execution_count": 6,
   "metadata": {},
   "outputs": [],
   "source": [
    "import sys\n",
    "sys.path.insert(0, '..')\n",
    "import gluonbook as gb\n",
    "from mxnet import nd, gluon, init\n",
    "from mxnet.gluon import nn\n",
    "\n",
    "def nin_block(num_channels, kernel_size, strides, padding):\n",
    "    blk = nn.Sequential()\n",
    "    blk.add(nn.Conv2D(num_channels, kernel_size, \n",
    "                      strides, padding, activation='relu'),\n",
    "            nn.Conv2D(num_channels, kernel_size=1, activation='relu'),\n",
    "            nn.Conv2D(num_channels, kernel_size=1, activation='relu'))\n",
    "    return blk"
   ]
  },
  {
   "cell_type": "code",
   "execution_count": 7,
   "metadata": {
    "collapsed": true
   },
   "outputs": [],
   "source": [
    "net = nn.Sequential()\n",
    "net.add(\n",
    "    nin_block(96, kernel_size=11, strides=4, padding=0),\n",
    "    nn.MaxPool2D(pool_size=3, strides=2),\n",
    "    nin_block(256, kernel_size=5, strides=1, padding=2),\n",
    "    nn.MaxPool2D(pool_size=3, strides=2),\n",
    "    nin_block(384, kernel_size=3, strides=1, padding=1),\n",
    "    nn.MaxPool2D(pool_size=3, strides=2),\n",
    "    nn.Dropout(.5),\n",
    "    # 标签类数是 10。\n",
    "    nin_block(10, kernel_size=3, strides=1, padding=1),\n",
    "    # 全局平均池化层将窗口形状自动设置成输出的高和宽。\n",
    "    nn.GlobalAvgPool2D(),\n",
    "    # 将四维的输出转成二维的输出，其形状为（批量大小，10）。\n",
    "    nn.Flatten()\n",
    ")\n"
   ]
  },
  {
   "cell_type": "code",
   "execution_count": 8,
   "metadata": {},
   "outputs": [
    {
     "name": "stdout",
     "output_type": "stream",
     "text": [
      "sequential6 output shape:\t (1, 96, 54, 54)\n",
      "pool4 output shape:\t (1, 96, 26, 26)\n",
      "sequential7 output shape:\t (1, 256, 26, 26)\n",
      "pool5 output shape:\t (1, 256, 12, 12)\n",
      "sequential8 output shape:\t (1, 384, 12, 12)\n",
      "pool6 output shape:\t (1, 384, 5, 5)\n",
      "dropout1 output shape:\t (1, 384, 5, 5)\n",
      "sequential9 output shape:\t (1, 10, 5, 5)\n",
      "pool7 output shape:\t (1, 10, 1, 1)\n",
      "flatten1 output shape:\t (1, 10)\n"
     ]
    }
   ],
   "source": [
    "X = nd.random.uniform(shape=(1,1,224,224))\n",
    "\n",
    "net.initialize()\n",
    "\n",
    "for layer in net:\n",
    "    X = layer(X)\n",
    "    print(layer.name, 'output shape:\\t', X.shape)"
   ]
  },
  {
   "cell_type": "code",
   "execution_count": 10,
   "metadata": {},
   "outputs": [
    {
     "name": "stdout",
     "output_type": "stream",
     "text": [
      "Start training on  gpu(0)\n",
      "Epoch 0. Loss: 2.043, Train acc 0.25, Test acc 0.62, Time 114.3 sec\n",
      "Epoch 1. Loss: 0.934, Train acc 0.65, Test acc 0.77, Time 114.6 sec\n",
      "Epoch 2. Loss: 0.609, Train acc 0.77, Test acc 0.76, Time 114.1 sec\n",
      "Epoch 3. Loss: 0.498, Train acc 0.82, Test acc 0.85, Time 114.8 sec\n",
      "Epoch 4. Loss: 0.446, Train acc 0.83, Test acc 0.86, Time 115.5 sec\n",
      "Epoch 5. Loss: 0.403, Train acc 0.85, Test acc 0.87, Time 114.1 sec\n",
      "Epoch 6. Loss: 0.594, Train acc 0.79, Test acc 0.85, Time 114.4 sec\n",
      "Epoch 7. Loss: 0.375, Train acc 0.86, Test acc 0.87, Time 114.8 sec\n",
      "Epoch 8. Loss: 0.347, Train acc 0.87, Test acc 0.89, Time 114.6 sec\n",
      "Epoch 9. Loss: 0.330, Train acc 0.88, Test acc 0.89, Time 114.7 sec\n",
      "Epoch 10. Loss: 0.315, Train acc 0.88, Test acc 0.89, Time 115.2 sec\n",
      "Epoch 11. Loss: 0.302, Train acc 0.89, Test acc 0.89, Time 115.5 sec\n",
      "Epoch 12. Loss: 0.297, Train acc 0.89, Test acc 0.90, Time 115.0 sec\n",
      "Epoch 13. Loss: 0.284, Train acc 0.89, Test acc 0.90, Time 114.9 sec\n",
      "Epoch 14. Loss: 0.276, Train acc 0.90, Test acc 0.90, Time 114.9 sec\n"
     ]
    }
   ],
   "source": [
    "ctx = gb.try_gpu()\n",
    "net.initialize(force_reinit=True, ctx=ctx, init=init.Xavier())\n",
    "trainer = gluon.Trainer(net.collect_params(), 'sgd', {'learning_rate': .1})\n",
    "\n",
    "loss = gluon.loss.SoftmaxCrossEntropyLoss()\n",
    "train_data, test_data = gb.load_data_fashion_mnist(batch_size=128, resize=224)\n",
    "gb.train(train_data, test_data, net, loss, trainer, ctx, num_epochs=15)"
   ]
  },
  {
   "cell_type": "markdown",
   "metadata": {},
   "source": [
    "NiN提供了两个重要的设计思路：\n",
    "\n",
    "    重复使用由卷积层和代替全连接层的1×1\n",
    "\n",
    "    卷积层构成的基础块来构建深层网络；\n",
    "    去除了容易造成过拟合的全连接层，而是替代成由输出通道数为标签类数的卷积层和全局平均池化层作为输出。\n",
    "\n",
    "虽然因为精度和收敛速度等问题NiN并没有像本章中介绍的其他网络那么被广泛使用，但NiN的设计思想影响了后面的一系列网络的设计。"
   ]
  },
  {
   "cell_type": "code",
   "execution_count": null,
   "metadata": {
    "collapsed": true
   },
   "outputs": [],
   "source": []
  }
 ],
 "metadata": {
  "kernelspec": {
   "display_name": "Python 3",
   "language": "python",
   "name": "python3"
  },
  "language_info": {
   "codemirror_mode": {
    "name": "ipython",
    "version": 3
   },
   "file_extension": ".py",
   "mimetype": "text/x-python",
   "name": "python",
   "nbconvert_exporter": "python",
   "pygments_lexer": "ipython3",
   "version": "3.6.2"
  }
 },
 "nbformat": 4,
 "nbformat_minor": 2
}
