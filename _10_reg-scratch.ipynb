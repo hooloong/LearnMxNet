{
 "cells": [
  {
   "cell_type": "code",
   "execution_count": 1,
   "metadata": {},
   "outputs": [
    {
     "name": "stderr",
     "output_type": "stream",
     "text": [
      "D:\\Programdata\\Anaconda3\\lib\\site-packages\\h5py\\__init__.py:34: FutureWarning: Conversion of the second argument of issubdtype from `float` to `np.floating` is deprecated. In future, it will be treated as `np.float64 == np.dtype(float).type`.\n",
      "  from ._conv import register_converters as _register_converters\n",
      "D:\\Programdata\\Anaconda3\\lib\\site-packages\\urllib3\\contrib\\pyopenssl.py:46: DeprecationWarning: OpenSSL.rand is deprecated - you should use os.urandom instead\n",
      "  import OpenSSL.SSL\n"
     ]
    }
   ],
   "source": [
    "from mxnet import ndarray as nd\n",
    "from mxnet import autograd\n",
    "from mxnet import gluon\n",
    "import mxnet as mx\n",
    "\n",
    "num_train = 20\n",
    "num_test = 100\n",
    "num_inputs = 200"
   ]
  },
  {
   "cell_type": "code",
   "execution_count": 2,
   "metadata": {
    "collapsed": true
   },
   "outputs": [],
   "source": [
    "true_w = nd.ones((num_inputs, 1)) * 0.01\n",
    "true_b = 0.05"
   ]
  },
  {
   "cell_type": "code",
   "execution_count": 3,
   "metadata": {
    "collapsed": true
   },
   "outputs": [],
   "source": [
    "X = nd.random.normal(shape=(num_train + num_test, num_inputs))\n",
    "y = nd.dot(X, true_w) + true_b\n",
    "y += .01 * nd.random.normal(shape=y.shape)\n",
    "\n",
    "X_train, X_test = X[:num_train, :], X[num_train:, :]\n",
    "y_train, y_test = y[:num_train], y[num_train:]"
   ]
  },
  {
   "cell_type": "code",
   "execution_count": 4,
   "metadata": {
    "collapsed": true
   },
   "outputs": [],
   "source": [
    "\n",
    "import random\n",
    "batch_size = 1\n",
    "def data_iter(num_examples):\n",
    "    idx = list(range(num_examples))\n",
    "    random.shuffle(idx)\n",
    "    for i in range(0, num_examples, batch_size):\n",
    "        j = nd.array(idx[i:min(i+batch_size,num_examples)])\n",
    "        yield X.take(j), y.take(j)\n",
    "\n"
   ]
  },
  {
   "cell_type": "code",
   "execution_count": 5,
   "metadata": {
    "collapsed": true
   },
   "outputs": [],
   "source": [
    "\n",
    "def init_params():\n",
    "    w = nd.random_normal(scale=1, shape=(num_inputs, 1))\n",
    "    b = nd.zeros(shape=(1,))\n",
    "    params = [w, b]\n",
    "    for param in params:\n",
    "        param.attach_grad()\n",
    "    return params\n",
    "\n"
   ]
  },
  {
   "cell_type": "code",
   "execution_count": 6,
   "metadata": {
    "collapsed": true
   },
   "outputs": [],
   "source": [
    "def L2_penalty(w, b):\n",
    "    return ((w**2).sum() + b**2) / 2"
   ]
  },
  {
   "cell_type": "code",
   "execution_count": 7,
   "metadata": {
    "collapsed": true
   },
   "outputs": [],
   "source": [
    "%matplotlib inline\n",
    "import matplotlib as mpl\n",
    "mpl.rcParams['figure.dpi']= 120\n",
    "import matplotlib.pyplot as plt\n",
    "import numpy as np\n",
    "\n",
    "def net(X, w, b):\n",
    "    return nd.dot(X, w) + b\n",
    "\n",
    "def square_loss(yhat, y):\n",
    "    return (yhat - y.reshape(yhat.shape)) ** 2 / 2\n",
    "\n",
    "def sgd(params, lr, batch_size):\n",
    "    for param in params:\n",
    "        param[:] = param - lr * param.grad / batch_size\n",
    "\n",
    "def test(net, params, X, y):\n",
    "    return square_loss(net(X, *params), y).mean().asscalar()\n",
    "    #return np.mean(square_loss(net(X, *params), y).asnumpy())\n",
    "\n",
    "def train(lambd):\n",
    "    epochs = 10\n",
    "    learning_rate = 0.005\n",
    "    w, b = params = init_params()\n",
    "    train_loss = []\n",
    "    test_loss = []\n",
    "    for e in range(epochs):\n",
    "        for data, label in data_iter(num_train):\n",
    "            with autograd.record():\n",
    "                output = net(data, *params)\n",
    "                loss = square_loss(\n",
    "                    output, label) + lambd * L2_penalty(*params)\n",
    "            loss.backward()\n",
    "            sgd(params, learning_rate, batch_size)\n",
    "        train_loss.append(test(net, params, X_train, y_train))\n",
    "        test_loss.append(test(net, params, X_test, y_test))\n",
    "    plt.plot(train_loss)\n",
    "    plt.plot(test_loss)\n",
    "    plt.legend(['train', 'test'])\n",
    "    plt.show()\n",
    "    return 'learned w[:10]:', w[:10].T, 'learned b:', b"
   ]
  },
  {
   "cell_type": "code",
   "execution_count": 8,
   "metadata": {},
   "outputs": [
    {
     "data": {
      "image/png": "[encoded data removed]",
      "text/plain": [
       "<matplotlib.figure.Figure at 0x3ccfd240>"
      ]
     },
     "metadata": {},
     "output_type": "display_data"
    },
    {
     "data": {
      "text/plain": [
       "('learned w[:10]:', \n",
       " [[ 0.30372033 -0.0812244   0.6469469  -1.5169723   0.16486847  0.42008018\n",
       "    0.41177237  0.83336073 -0.66504204  3.5633209 ]]\n",
       " <NDArray 1x10 @cpu(0)>, 'learned b:', \n",
       " [0.12570135]\n",
       " <NDArray 1 @cpu(0)>)"
      ]
     },
     "execution_count": 8,
     "metadata": {},
     "output_type": "execute_result"
    }
   ],
   "source": [
    "train(0)"
   ]
  },
  {
   "cell_type": "code",
   "execution_count": 9,
   "metadata": {},
   "outputs": [
    {
     "data": {
      "image/png": "[encoded data removed]",
      "text/plain": [
       "<matplotlib.figure.Figure at 0x3ccfd550>"
      ]
     },
     "metadata": {},
     "output_type": "display_data"
    },
    {
     "data": {
      "text/plain": [
       "('learned w[:10]:', \n",
       " [[ 0.01265829  0.00332076 -0.01071077  0.00067418 -0.0063209   0.00805996\n",
       "    0.01339425 -0.00690107  0.00429037 -0.00904289]]\n",
       " <NDArray 1x10 @cpu(0)>, 'learned b:', \n",
       " [0.0056841]\n",
       " <NDArray 1 @cpu(0)>)"
      ]
     },
     "execution_count": 9,
     "metadata": {},
     "output_type": "execute_result"
    }
   ],
   "source": [
    "\n",
    "train(5)\n",
    "\n"
   ]
  },
  {
   "cell_type": "code",
   "execution_count": null,
   "metadata": {
    "collapsed": true
   },
   "outputs": [],
   "source": []
  }
 ],
 "metadata": {
  "kernelspec": {
   "display_name": "Python 3",
   "language": "python",
   "name": "python3"
  },
  "language_info": {
   "codemirror_mode": {
    "name": "ipython",
    "version": 3
   },
   "file_extension": ".py",
   "mimetype": "text/x-python",
   "name": "python",
   "nbconvert_exporter": "python",
   "pygments_lexer": "ipython3",
   "version": "3.6.2"
  }
 },
 "nbformat": 4,
 "nbformat_minor": 2
}
