{
 "cells": [
  {
   "cell_type": "code",
   "execution_count": 4,
   "metadata": {},
   "outputs": [],
   "source": [
    "from mxnet import ndarray as nd\n",
    "from mxnet import autograd\n",
    "from mxnet import gluon\n",
    "import mxnet as mx\n",
    "\n",
    "num_train = 20\n",
    "num_test = 100\n",
    "num_inputs = 200\n",
    "\n",
    "true_w = nd.ones((num_inputs, 1)) * 0.01\n",
    "true_b = 0.05\n",
    "\n",
    "X = nd.random.normal(shape=(num_train + num_test, num_inputs))\n",
    "y = nd.dot(X, true_w) + true_b\n",
    "y += .01 * nd.random.normal(shape=y.shape)\n",
    "\n",
    "X_train, X_test = X[:num_train, :], X[num_train:, :]\n",
    "y_train, y_test = y[:num_train], y[num_train:]"
   ]
  },
  {
   "cell_type": "code",
   "execution_count": 5,
   "metadata": {
    "collapsed": true
   },
   "outputs": [],
   "source": [
    "%matplotlib inline\n",
    "import matplotlib as mpl\n",
    "mpl.rcParams['figure.dpi']= 120\n",
    "import matplotlib.pyplot as plt\n",
    "import numpy as np\n",
    "\n",
    "batch_size = 1\n",
    "dataset_train = gluon.data.ArrayDataset(X_train, y_train)\n",
    "data_iter_train = gluon.data.DataLoader(dataset_train, batch_size, shuffle=True)\n",
    "\n",
    "square_loss = gluon.loss.L2Loss()\n",
    "\n",
    "def test(net, X, y):\n",
    "    return square_loss(net(X), y).mean().asscalar()\n",
    "\n",
    "def train(weight_decay):\n",
    "    epochs = 10\n",
    "    learning_rate = 0.005\n",
    "    net = gluon.nn.Sequential()\n",
    "    with net.name_scope():\n",
    "        net.add(gluon.nn.Dense(1))\n",
    "    net.collect_params().initialize(mx.init.Normal(sigma=1))\n",
    "    print(net)\n",
    "    # 注意到这里 'wd'\n",
    "    trainer = gluon.Trainer(net.collect_params(), 'sgd', {\n",
    "        'learning_rate': learning_rate, 'wd': weight_decay})\n",
    "    \n",
    "    train_loss = []\n",
    "    test_loss = []\n",
    "    for e in range(epochs):        \n",
    "        for data, label in data_iter_train:\n",
    "            with autograd.record():\n",
    "                output = net(data)\n",
    "                loss = square_loss(output, label)\n",
    "            loss.backward()\n",
    "            trainer.step(batch_size)            \n",
    "        train_loss.append(test(net, X_train, y_train))\n",
    "        test_loss.append(test(net, X_test, y_test))\n",
    "    plt.plot(train_loss)\n",
    "    plt.plot(test_loss)\n",
    "    plt.legend(['train','test'])\n",
    "    plt.show()\n",
    "\n",
    "    return ('learned w[:10]:', net[0].weight.data()[:,:10], \n",
    "            'learned b:', net[0].bias.data())"
   ]
  },
  {
   "cell_type": "code",
   "execution_count": 6,
   "metadata": {},
   "outputs": [
    {
     "name": "stdout",
     "output_type": "stream",
     "text": [
      "Sequential(\n",
      "  (0): Dense(None -> 1, linear)\n",
      ")\n"
     ]
    },
    {
     "data": {
      "image/png": "[encoded data removed]",
      "text/plain": [
       "<matplotlib.figure.Figure at 0x43dd36a0>"
      ]
     },
     "metadata": {},
     "output_type": "display_data"
    },
    {
     "data": {
      "text/plain": [
       "('learned w[:10]:', \n",
       " [[ 0.0001979   0.00690365  0.01336264  0.0119762  -0.0104309   0.00541747\n",
       "   -0.00693342  0.00105967 -0.01363127  0.00062752]]\n",
       " <NDArray 1x10 @cpu(0)>, 'learned b:', \n",
       " [0.00766495]\n",
       " <NDArray 1 @cpu(0)>)"
      ]
     },
     "execution_count": 6,
     "metadata": {},
     "output_type": "execute_result"
    }
   ],
   "source": [
    "train(5)"
   ]
  },
  {
   "cell_type": "code",
   "execution_count": null,
   "metadata": {
    "collapsed": true
   },
   "outputs": [],
   "source": []
  }
 ],
 "metadata": {
  "kernelspec": {
   "display_name": "Python 3",
   "language": "python",
   "name": "python3"
  },
  "language_info": {
   "codemirror_mode": {
    "name": "ipython",
    "version": 3
   },
   "file_extension": ".py",
   "mimetype": "text/x-python",
   "name": "python",
   "nbconvert_exporter": "python",
   "pygments_lexer": "ipython3",
   "version": "3.6.2"
  }
 },
 "nbformat": 4,
 "nbformat_minor": 2
}
